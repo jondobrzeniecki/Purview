{
 "cells": [
  {
   "attachments": {},
   "cell_type": "markdown",
   "metadata": {},
   "source": [
    "## Bulk Delete Registered Data Source\n",
    "\n",
    "This notebook uses the Purview Python SDK to delete a registered data source and <b>all</b> of its associated assets. Support for the data sources ADLS Gen2 and Azure SQL DB are supported. The prefix of an assets fully qualified name is used to query the catalog and determine the list of assets being deleted. The prefix is derived from the registered data source endpoint field.\n",
    "\n",
    "**Warning:**\n",
    "This notebook has the potential to delete a lot of assets all at once. Verify what will be deleted first before running the delete sequence in the last cell.\n"
   ]
  },
  {
   "cell_type": "code",
   "execution_count": null,
   "metadata": {},
   "outputs": [],
   "source": [
    "import os\n",
    "import math\n",
    "from azure.purview.scanning import PurviewScanningClient\n",
    "from azure.purview.catalog import PurviewCatalogClient\n",
    "from azure.purview.administration.account import PurviewAccountClient\n",
    "from azure.identity import ClientSecretCredential \n",
    "from azure.core.exceptions import HttpResponseError"
   ]
  },
  {
   "cell_type": "code",
   "execution_count": null,
   "metadata": {},
   "outputs": [],
   "source": [
    "client_id = \"\" \n",
    "client_secret = \"\"\n",
    "tenant_id = \"\"\n",
    "purview_account_name = \"\"\n",
    "registered_data_source_name = \"\""
   ]
  },
  {
   "cell_type": "code",
   "execution_count": null,
   "metadata": {},
   "outputs": [],
   "source": [
    "credentials = ClientSecretCredential(client_id=client_id, client_secret=client_secret, tenant_id=tenant_id)\n",
    "client_catalog = PurviewCatalogClient(endpoint=f\"https://{purview_account_name}.purview.azure.com/\", credential=credentials, logging_enable=True)\n",
    "client_scan = PurviewScanningClient(endpoint=f\"https://{purview_account_name}.scan.purview.azure.com\", credential=credentials, logging_enable=True)"
   ]
  },
  {
   "cell_type": "code",
   "execution_count": null,
   "metadata": {},
   "outputs": [],
   "source": [
    "switch_endpoint_kind = {\n",
    "    \"AzureSqlDatabase\":\"serverEndpoint\",\n",
    "    \"AdlsGen2\":\"endpoint\"\n",
    "}"
   ]
  },
  {
   "cell_type": "code",
   "execution_count": null,
   "metadata": {},
   "outputs": [],
   "source": [
    "try:\n",
    "    response = client_scan.data_sources.delete(registered_data_source_name)\n",
    "    endpoint_kind = switch_endpoint_kind.get(response['kind'])\n",
    "    source_endpoint = response['properties'][endpoint_kind].rstrip(\"/\")\n",
    "    print(source_endpoint)\n",
    "except HttpResponseError as e:\n",
    "    print(e)"
   ]
  },
  {
   "cell_type": "code",
   "execution_count": null,
   "metadata": {},
   "outputs": [],
   "source": [
    "page_limit = 1000\n",
    "\n",
    "body_input={\n",
    "    \"limit\": page_limit,\n",
    "    \"offset\": 0,\n",
    "    \"filter\": {\n",
    "        \"attributeName\": \"qualifiedName\",\n",
    "        \"operator\": \"startswith\",\n",
    "        \"attributeValue\": source_endpoint\n",
    "      }\n",
    "}"
   ]
  },
  {
   "cell_type": "code",
   "execution_count": null,
   "metadata": {},
   "outputs": [],
   "source": [
    "def delete_asset(x):\n",
    "    if x['qualifiedName'].startswith(source_endpoint):\n",
    "            client_catalog.entity.delete_by_guid(x['id'])"
   ]
  },
  {
   "cell_type": "code",
   "execution_count": null,
   "metadata": {},
   "outputs": [],
   "source": [
    "result_count = client_catalog.discovery.query(search_request=body_input)['@search.count']\n",
    "number_of_offsets = int(math.ceil(result_count / page_limit))\n",
    "\n",
    "for x in range(number_of_offsets):\n",
    "    body_input['offset'] = x\n",
    "    response_value = client_catalog.discovery.query(search_request=body_input)['value']\n",
    "    list(map(delete_asset,response_value))"
   ]
  }
 ],
 "metadata": {
  "kernelspec": {
   "display_name": "Python 3",
   "language": "python",
   "name": "python3"
  },
  "language_info": {
   "codemirror_mode": {
    "name": "ipython",
    "version": 3
   },
   "file_extension": ".py",
   "mimetype": "text/x-python",
   "name": "python",
   "nbconvert_exporter": "python",
   "pygments_lexer": "ipython3",
   "version": "3.8.5"
  },
  "orig_nbformat": 4,
  "vscode": {
   "interpreter": {
    "hash": "9650cb4e16cdd4a8e8e2d128bf38d875813998db22a3c986335f89e0cb4d7bb2"
   }
  }
 },
 "nbformat": 4,
 "nbformat_minor": 2
}
